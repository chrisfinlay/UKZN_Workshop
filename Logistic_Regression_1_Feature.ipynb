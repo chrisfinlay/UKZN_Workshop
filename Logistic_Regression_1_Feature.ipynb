{
 "cells": [
  {
   "cell_type": "markdown",
   "metadata": {},
   "source": [
    "## Classification Problem <br>\n",
    "\n",
    "We are going to classify two astronomical objects, which are planets and RR Lyrae using **Machine Learning** algorithm called **Logistic Regression**. <br>\n",
    "\n",
    "\n",
    "Logistic regression is a classification algorithm used to assign observations to a discrete set of classes. Unlike linear regression which outputs continuous number values, logistic regression transforms its output using the logistic sigmoid function to return a probability value which can then be mapped to two or more discrete classes."
   ]
  },
  {
   "cell_type": "code",
   "execution_count": 1,
   "metadata": {},
   "outputs": [
    {
     "name": "stdout",
     "output_type": "stream",
     "text": [
      "Populating the interactive namespace from numpy and matplotlib\n"
     ]
    }
   ],
   "source": [
    "# Importing important  modules\n",
    "from __future__ import division\n",
    "from additions import contour_plot, training_plots, accuracy, ROC,plot_confusion_matrix\n",
    "from gradient_descent_example import learning_rate\n",
    "import pandas as pd\n",
    "%pylab inline"
   ]
  },
  {
   "cell_type": "markdown",
   "metadata": {},
   "source": [
    "## Loading in the training data"
   ]
  },
  {
   "cell_type": "code",
   "execution_count": 2,
   "metadata": {},
   "outputs": [],
   "source": [
    "df_train = pd.read_csv(\"train_normalized.csv\")"
   ]
  },
  {
   "cell_type": "code",
   "execution_count": 3,
   "metadata": {},
   "outputs": [],
   "source": [
    "x_train = df_train[[\"period_SNR\"]].values\n",
    "y_train = df_train[\"class\"].values"
   ]
  },
  {
   "cell_type": "markdown",
   "metadata": {},
   "source": [
    "**Sigmoid Function**\n",
    "\n",
    "In order to map predicted values to probabilities, we use the sigmoid function. The function maps any real value into another value between 0 and 1. In machine learning, we use sigmoid to map predictions to probabilities. Mathematically the sigmoid function is defined as follows:\n",
    "\n",
    "\n",
    "\\begin{eqnarray}\n",
    "\\sigma= \\frac{1}{1 + e^{-(Wx+b)}}=\\sigma(z) = \\frac{1}{1 + e^{-z}}\n",
    "\\end{eqnarray}\n",
    "\n",
    "**Note** <br>\n",
    "$\\sigma(z)$ = output values between 0 and 1 (probabililty estimate)<br>\n",
    "z = input to the function = Wx+b <br>\n",
    "e = base of natural log <br>\n",
    "\n",
    "\n",
    "**The sigmoid graph**\n",
    "<img src=\"sigmoid.png\" height=\"600\" width=\"600\">\n",
    "\n",
    "\n",
    "**Decision Boundary**\n",
    "\n",
    "The sigmoid function returns probability score between 0 and 1. In order to map this to a discrete class (true/false), we select a threshold value above which we will classify values into class 1 and below which we classify values into class 2.<br>\n",
    "\n",
    "For example in the above plot we chose a threshold of 0.5 in order to classify the two classes. <br>\n",
    "\n",
    "* p $\\geq$ 0.5 , class 1\n",
    "* p < 0.5 , class 0"
   ]
  },
  {
   "cell_type": "markdown",
   "metadata": {},
   "source": [
    "## Create the sigmoid function by filling in the gaps"
   ]
  },
  {
   "cell_type": "code",
   "execution_count": null,
   "metadata": {},
   "outputs": [],
   "source": [
    "def sigmoid(z):\n",
    "    #Calculate the sigmoid of the argument z and return it\n",
    "    \n",
    "    sig = # Fill in here\n",
    "    \n",
    "    return sig"
   ]
  },
  {
   "cell_type": "markdown",
   "metadata": {},
   "source": [
    "### Run the cell below to get the answer"
   ]
  },
  {
   "cell_type": "code",
   "execution_count": 16,
   "metadata": {},
   "outputs": [],
   "source": [
    "# %load solutions/sigmoid.py"
   ]
  },
  {
   "cell_type": "markdown",
   "metadata": {},
   "source": [
    "**Cost Function** <br>\n",
    "A cost function's main purpose is to penalize bad choices for the parameters to be optimized and reward good ones. The cost function for logistic regression is written with logarithmic functions. An argument for using the log form of the cost function comes from the statistical derivation of the likelihood estimation for the probabilities.<br >\n",
    "\n",
    "Instead of Mean Squared Error, we use a cost function called Cross-Entropy, also known as Log Loss. Cross-entropy loss can be divided into two separate cost functions: one for y=1 and one for y=0.\n",
    "\n",
    "\\begin{eqnarray}\n",
    "J({W,b}) = \\frac{1}{m} error(\\sigma,y)\n",
    "\\end{eqnarray}\n",
    "\n",
    "\\begin{eqnarray}\n",
    "\\\n",
    "    error(\\sigma,y) = \n",
    "\\begin{cases}\n",
    "    -log(\\sigma) & \\text{if } y= 1\\\\\n",
    "    -log(1-\\sigma)              & \\text{if } y = 0\n",
    "\\end{cases}\n",
    "\\\n",
    "\\end{eqnarray}\n",
    "\n",
    "Thus, we can combine the two cases as follows:\n",
    "\\begin{eqnarray}\n",
    "J(W,b) = -\\frac{1}{m}[\\sum_{i=1}^m y.log(\\sigma) + (1-y)log(1-\\sigma) ] = C\n",
    "\\end{eqnarray}\n",
    "\n",
    "Multiplying by y and (1−y) in the above equation is a clever way that allows us use the same equation to solve for both y=1 and y=0 cases. If y=0, the first side cancels out. If y=1, the second side cancels out. In both cases we only perform the operation we need to perform."
   ]
  },
  {
   "cell_type": "markdown",
   "metadata": {},
   "source": [
    "## Create the cost function by filling in the gaps"
   ]
  },
  {
   "cell_type": "code",
   "execution_count": null,
   "metadata": {},
   "outputs": [],
   "source": [
    "def cost(y, x, W, b):\n",
    "    #Calculate the argument of the sigmoid\n",
    "    \n",
    "    z = # Fill in here\n",
    "    \n",
    "    #Calculate the cost and return it\n",
    "    \n",
    "    C = # Fill in here\n",
    "    \n",
    "    return C"
   ]
  },
  {
   "cell_type": "markdown",
   "metadata": {},
   "source": [
    "### Run the cell below to get the answer"
   ]
  },
  {
   "cell_type": "code",
   "execution_count": 17,
   "metadata": {},
   "outputs": [],
   "source": [
    "# %load solutions/cost.py"
   ]
  },
  {
   "cell_type": "markdown",
   "metadata": {},
   "source": [
    "**Gradient Descent** <br>\n",
    "\n",
    "To minimize the cost function we use gradient descent method.\n",
    "\n",
    "<img src=\"gradient_descent.png\" height=\"600\" width=\"600\">"
   ]
  },
  {
   "cell_type": "markdown",
   "metadata": {},
   "source": [
    "**Mathematics behind Gradiend descent:** <br >\n",
    "\n",
    "The purpoose gradient descent is to find parameters that will minimize the cost function. The algorithm update the parameters as follows:\n",
    "\n",
    "\\begin{eqnarray}\n",
    "W_j := W_j - \\alpha\\frac{\\partial }{\\partial W}J(W,b) \n",
    "\\end{eqnarray}\n",
    "\n",
    "$\\alpha$ is the learning rate. It determines the amount of time the algorithm will take to converge. If $\\alpha$ is too small the algorithm might take longer time to converge, and if is too large the algorithm might not converge. Refer to the clip that shows the concepts:"
   ]
  },
  {
   "cell_type": "code",
   "execution_count": 7,
   "metadata": {},
   "outputs": [
    {
     "data": {
      "image/png": "[encoded data removed]",
      "text/plain": [
       "<Figure size 432x288 with 1 Axes>"
      ]
     },
     "metadata": {},
     "output_type": "display_data"
    }
   ],
   "source": [
    "learning_rate(Wi=-4,steps=5,alpha=0.1)"
   ]
  },
  {
   "cell_type": "markdown",
   "metadata": {},
   "source": [
    "We define : <br>\n",
    "Then we can write: <br>\n",
    "\n",
    "\\begin{align}\n",
    "C = -\\frac{1}{m}[\\sum_{i=1}^m y.log(\\sigma) + (1-y)log(1-\\sigma) ] \n",
    "\\end{align}\n",
    "\n",
    "then,\n",
    "\n",
    "\\begin{align}\n",
    "\\frac{\\partial C}{\\partial (\\sigma)} = -\\frac{1}{m} \\sum_{i=1}^m y.\\frac{1}{\\sigma} + (1-y)\\frac{-1}{1-\\sigma}\n",
    "\\end{align}\n",
    "\n",
    "\\begin{align}\n",
    "\\frac{\\partial C}{\\partial W} = -\\frac{1}{m}\\sum_{i=1}^m y\\frac{1}{\\sigma(c)}\\frac{\\partial \\sigma }{\\partial W} +(1-y)\\frac{-1}{1-\\sigma(x)}\\frac{\\partial \\sigma}{\\partial W}\n",
    "\\end{align}\n",
    "\n",
    "but,\n",
    "\n",
    "\\begin{align}\n",
    "\\frac{\\partial \\sigma}{\\partial W} &= \\frac{\\partial \\sigma }{\\partial Z} \\frac{\\partial Z}{\\partial W}\\\\\n",
    "                                    &=\\sigma(1-\\sigma)x\n",
    "\\end{align}\n",
    "\n",
    "Therefore,\n",
    "\\begin{eqnarray}\n",
    "\\frac{\\partial C}{\\partial W} = -\\frac{1}{m}\\sum_{i=1}^{m}(y-\\sigma)x\n",
    "\\end{eqnarray}\n",
    "\n",
    "\\begin{eqnarray}\n",
    "\\frac{\\partial C}{\\partial b} = -\\frac{1}{m}\\sum_{i=1}^{m}(y-\\sigma)\n",
    "\\end{eqnarray}"
   ]
  },
  {
   "cell_type": "markdown",
   "metadata": {},
   "source": [
    "## Create the cost gradient function by filling in the gaps "
   ]
  },
  {
   "cell_type": "code",
   "execution_count": null,
   "metadata": {},
   "outputs": [],
   "source": [
    "def cost_gradient(y, x, W, b):\n",
    "    #Calculate the the argument of sigmoid\n",
    "\n",
    "    z = # Fill in here\n",
    "    \n",
    "    #Calculate the derivative of the cost function wrt z\n",
    "\n",
    "    DcDz = # Fill in here\n",
    "    \n",
    "    #Calculate the derivatives wrt each parameter\n",
    "\n",
    "    DcDW = # Fill in here\n",
    "    DcDb = # Fill in here\n",
    "    \n",
    "    return DcDW, DcDb"
   ]
  },
  {
   "cell_type": "markdown",
   "metadata": {},
   "source": [
    "### Run the cell below to get the answer"
   ]
  },
  {
   "cell_type": "code",
   "execution_count": 18,
   "metadata": {},
   "outputs": [],
   "source": [
    "# %load solutions/cost_gradient.py"
   ]
  },
  {
   "cell_type": "markdown",
   "metadata": {},
   "source": [
    "## Create the gradient descent function by filling in the gaps"
   ]
  },
  {
   "cell_type": "code",
   "execution_count": null,
   "metadata": {},
   "outputs": [],
   "source": [
    "def gradient_descent(y, x, Wi, bi, alpha, steps):\n",
    "    #Create arrays for the weights, bias and cost\n",
    "\n",
    "    W = # Fill in here\n",
    "    b = # Fill in here\n",
    "    C = # Fill in here\n",
    "    \n",
    "    #Populate the first entry for each array  \n",
    "\n",
    "    W[0] = # Fill in here\n",
    "    b[0] = # Fill in here\n",
    "    C[0] = # Fill in here\n",
    "    \n",
    "    #Perform gradient descent\n",
    "    for i in range(steps):\n",
    "        DW, Db = # Fill in here\n",
    "        \n",
    "        W[i+1] = # Fill in here\n",
    "        b[i+1] = # Fill in here\n",
    "        \n",
    "        C[i+1] = # Fill in here\n",
    "        \n",
    "    return W, b, C"
   ]
  },
  {
   "cell_type": "markdown",
   "metadata": {},
   "source": [
    "### Run the cell below to get the answer"
   ]
  },
  {
   "cell_type": "code",
   "execution_count": 7,
   "metadata": {},
   "outputs": [],
   "source": [
    "# %load solutions/gradient_descent\n",
    "def gradient_descent(y, x, Wi, bi, alpha, steps):\n",
    "#     Create arrays for the weights, bias and cost\n",
    "    W = np.zeros((steps+1, len(Wi)))\n",
    "    b = np.zeros(steps+1)\n",
    "    C = np.zeros(steps+1)\n",
    "    \n",
    "#   Populate the first entry for each array  \n",
    "    W[0] = Wi\n",
    "    b[0] = bi\n",
    "    C[0] = cost(y, x, Wi, bi)\n",
    "    \n",
    "#     Perform gradient descent\n",
    "    for i in range(steps):\n",
    "        DW, Db = cost_gradient(y, x, W[i], b[i])\n",
    "        \n",
    "        W[i+1] = W[i] - alpha*DW\n",
    "        b[i+1] = b[i] - alpha*Db\n",
    "        \n",
    "        C[i+1] = cost(y, x, W[i+1], b[i+1])\n",
    "        \n",
    "    return W, b, C\n"
   ]
  },
  {
   "cell_type": "markdown",
   "metadata": {},
   "source": [
    "## Now let's initialize our parameters"
   ]
  },
  {
   "cell_type": "code",
   "execution_count": 8,
   "metadata": {},
   "outputs": [],
   "source": [
    "np.random.seed(1234)\n",
    "Wi = np.random.randn(x_train.shape[1])\n",
    "bi = np.random.randn(1)"
   ]
  },
  {
   "cell_type": "markdown",
   "metadata": {},
   "source": [
    "## Now let's run the gradient descent algorithm"
   ]
  },
  {
   "cell_type": "code",
   "execution_count": 9,
   "metadata": {},
   "outputs": [],
   "source": [
    "W, b, C = gradient_descent(y_train, x_train, Wi, bi, alpha=10e-1, steps=100)"
   ]
  },
  {
   "cell_type": "markdown",
   "metadata": {},
   "source": [
    "## Check out the how the paramters and cost have evolved"
   ]
  },
  {
   "cell_type": "code",
   "execution_count": 10,
   "metadata": {},
   "outputs": [
    {
     "data": {
      "image/png": "[encoded data removed]",
      "text/plain": [
       "<Figure size 1080x360 with 3 Axes>"
      ]
     },
     "metadata": {},
     "output_type": "display_data"
    }
   ],
   "source": [
    "training_plots(W, b, C)"
   ]
  },
  {
   "cell_type": "markdown",
   "metadata": {},
   "source": [
    "## We can see the path taken by gradient descent nicely on a contour plot of the cost function"
   ]
  },
  {
   "cell_type": "code",
   "execution_count": 11,
   "metadata": {},
   "outputs": [
    {
     "data": {
      "image/png": "[encoded data removed]",
      "text/plain": [
       "<Figure size 432x288 with 2 Axes>"
      ]
     },
     "metadata": {},
     "output_type": "display_data"
    }
   ],
   "source": [
    "contour_plot(y_train, x_train, W, b);"
   ]
  },
  {
   "cell_type": "markdown",
   "metadata": {},
   "source": [
    "# Now is time to test your classifier"
   ]
  },
  {
   "cell_type": "markdown",
   "metadata": {},
   "source": [
    "## Load in the test data"
   ]
  },
  {
   "cell_type": "code",
   "execution_count": 12,
   "metadata": {},
   "outputs": [],
   "source": [
    "df_test = pd.read_csv(\"test_normalized.csv\")"
   ]
  },
  {
   "cell_type": "code",
   "execution_count": 13,
   "metadata": {},
   "outputs": [],
   "source": [
    "x_test = df_test[[\"period_SNR\"]].values\n",
    "y_test = df_test[\"class\"].values.astype(int)"
   ]
  },
  {
   "cell_type": "code",
   "execution_count": 14,
   "metadata": {},
   "outputs": [
    {
     "name": "stdout",
     "output_type": "stream",
     "text": [
      "93.3920704845815\n"
     ]
    }
   ],
   "source": [
    "acc, pred = accuracy(y_test, x_test, W[-1], b[-1], threshold=0.5)\n",
    "print(acc)"
   ]
  },
  {
   "cell_type": "code",
   "execution_count": 15,
   "metadata": {},
   "outputs": [
    {
     "data": {
      "image/png": "[encoded data removed]",
      "text/plain": [
       "<Figure size 432x288 with 1 Axes>"
      ]
     },
     "metadata": {},
     "output_type": "display_data"
    }
   ],
   "source": [
    "ROC(y_test, x_test, W[-1], b[-1]);"
   ]
  },
  {
   "cell_type": "code",
   "execution_count": 26,
   "metadata": {},
   "outputs": [
    {
     "name": "stdout",
     "output_type": "stream",
     "text": [
      "Confusion matrix, without normalization\n",
      "[[ 82  14]\n",
      " [  1 130]]\n"
     ]
    },
    {
     "data": {
      "image/png": "[encoded data removed]",
      "text/plain": [
       "<Figure size 432x288 with 2 Axes>"
      ]
     },
     "metadata": {},
     "output_type": "display_data"
    }
   ],
   "source": [
    "plot_confusion_matrix(y_test,pred)"
   ]
  }
 ],
 "metadata": {
  "kernelspec": {
   "display_name": "Python 2",
   "language": "python",
   "name": "python2"
  },
  "language_info": {
   "codemirror_mode": {
    "name": "ipython",
    "version": 2
   },
   "file_extension": ".py",
   "mimetype": "text/x-python",
   "name": "python",
   "nbconvert_exporter": "python",
   "pygments_lexer": "ipython2",
   "version": "2.7.12"
  }
 },
 "nbformat": 4,
 "nbformat_minor": 2
}
